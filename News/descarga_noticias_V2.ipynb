{
 "cells": [
  {
   "cell_type": "code",
   "execution_count": 1,
   "metadata": {},
   "outputs": [
    {
     "data": {
      "text/plain": [
       "True"
      ]
     },
     "execution_count": 1,
     "metadata": {},
     "output_type": "execute_result"
    }
   ],
   "source": [
    "import pandas as pd\n",
    "import json\n",
    "import sys\n",
    "import datetime\n",
    "import shutil\n",
    "import os\n",
    "import networkx as nx\n",
    "import matplotlib.pyplot as plt\n",
    "import datetime\n",
    "\n",
    "from openai import OpenAI\n",
    "from dotenv import load_dotenv\n",
    "from google.cloud.exceptions import NotFound\n",
    "from google.cloud import storage, bigquery\n",
    "\n",
    "load_dotenv()"
   ]
  },
  {
   "cell_type": "code",
   "execution_count": 2,
   "metadata": {},
   "outputs": [],
   "source": [
    "# NUEVA CONFIGURACIÓN ACTUALIZADA\n",
    "REGION = \"us-central1\"  # Esta variable podría mantenerse igual, pero es bueno confirmarla.\n",
    "PROJECT_ID = \"noticias-450720\"\n",
    "BIGQUERY_DATASET = \"news_articles\" # Recomiendo un nombre de variable más descriptivo\n",
    "TABLE = \"articles\""
   ]
  },
  {
   "cell_type": "code",
   "execution_count": 3,
   "metadata": {},
   "outputs": [
    {
     "name": "stderr",
     "output_type": "stream",
     "text": [
      "WARNING: Your active project does not match the quota project in your local Application Default Credentials file. This might result in unexpected quota issues.\n",
      "\n",
      "To update your Application Default Credentials quota project, use the `gcloud auth application-default set-quota-project` command.\n",
      "Updated property [core/project].\n",
      "ERROR: (gcloud.auth.login) unrecognized arguments:\n",
      "  Cloud\n",
      "  SDK\n",
      "  To search the help text of gcloud commands, run:\n",
      "  gcloud help -- SEARCH_TERMS\n",
      "Your browser has been opened to visit:\n",
      "\n",
      "    https://accounts.google.com/o/oauth2/auth?response_type=code&client_id=764086051850-6qr4p6gpi6hn506pt8ejuq83di341hur.apps.googleusercontent.com&redirect_uri=http%3A%2F%2Flocalhost%3A8085%2F&scope=openid+https%3A%2F%2Fwww.googleapis.com%2Fauth%2Fuserinfo.email+https%3A%2F%2Fwww.googleapis.com%2Fauth%2Fcloud-platform+https%3A%2F%2Fwww.googleapis.com%2Fauth%2Fsqlservice.login&state=PymOOX8RWLJkI1wHfaoVIVpKqAiwKW&access_type=offline&code_challenge=0M93ajQEPgxMD5c1nyM780t8A8cgkPczcnLAaSGTGKs&code_challenge_method=S256\n",
      "\n",
      "\n",
      "Credentials saved to file: [C:\\Users\\benja\\AppData\\Roaming\\gcloud\\application_default_credentials.json]\n",
      "\n",
      "These credentials will be used by any library that requests Application Default Credentials (ADC).\n",
      "WARNING: \n",
      "Cannot add the project \"noticias-450720\" to ADC as the quota project because the account in ADC does not have the \"serviceusage.services.use\" permission on this project. You might receive a \"quota_exceeded\" or \"API not enabled\" error. Run $ gcloud auth application-default set-quota-project to add a quota project.\n"
     ]
    }
   ],
   "source": [
    "!gcloud config set project $PROJECT_ID\n",
    "!gcloud auth login # Cloud SDK\n",
    "!gcloud auth application-default login"
   ]
  },
  {
   "cell_type": "code",
   "execution_count": 4,
   "metadata": {},
   "outputs": [
    {
     "name": "stderr",
     "output_type": "stream",
     "text": [
      "c:\\Users\\benja\\AppData\\Local\\Programs\\Python\\Python312\\Lib\\site-packages\\google\\auth\\_default.py:76: UserWarning: Your application has authenticated using end user credentials from Google Cloud SDK without a quota project. You might receive a \"quota exceeded\" or \"API not enabled\" error. See the following page for troubleshooting: https://cloud.google.com/docs/authentication/adc-troubleshooting/user-creds. \n",
      "  warnings.warn(_CLOUD_SDK_CREDENTIALS_WARNING)\n"
     ]
    }
   ],
   "source": [
    "# Configura la conexión a BigQuery\n",
    "client = bigquery.Client()"
   ]
  },
  {
   "cell_type": "code",
   "execution_count": null,
   "metadata": {},
   "outputs": [
    {
     "name": "stdout",
     "output_type": "stream",
     "text": [
      "🚀 Ejecutando la consulta en BigQuery...\n",
      "⏳ Descargando los resultados...\n",
      "\n",
      "✅ ¡Consulta finalizada con éxito!\n",
      "Se encontraron y guardaron 118000 noticias.\n",
      "Revisa el archivo: 'noticias_chile_primarias_2025.csv'\n"
     ]
    }
   ],
   "source": [
    "from google.cloud import bigquery\n",
    "\n",
    "# 1. Inicializa el cliente de BigQuery\n",
    "client = bigquery.Client()\n",
    "\n",
    "# 2. Define la consulta SQL completa y correcta\n",
    "query = \"\"\"\n",
    "SELECT \n",
    "    id, \n",
    "    title, \n",
    "    body, \n",
    "    source, \n",
    "    country, \n",
    "    publish_date, \n",
    "    platform\n",
    "FROM \n",
    "    `noticias-450720.news_articles.articles` \n",
    "WHERE \n",
    "    country = 'Chile'\n",
    "    AND platform = 'Event Registry'\n",
    "    AND publish_date BETWEEN DATE('2025-04-02') AND DATE('2025-06-29')\n",
    "\"\"\"\n",
    "\n",
    "# 3. Ejecuta la consulta\n",
    "print(\"🚀 Ejecutando la consulta en BigQuery...\")\n",
    "query_job = client.query(query)\n",
    "\n",
    "# 4. Convierte los resultados a un DataFrame de pandas\n",
    "print(\"⏳ Descargando los resultados...\")\n",
    "df_filtrado = query_job.to_dataframe()\n",
    "\n",
    "# 5. Guarda el DataFrame en un archivo CSV\n",
    "output_filename = 'datos/noticias_chile_primarias_2025.csv'\n",
    "df_filtrado.to_csv(output_filename, index=False)\n",
    "\n",
    "print(f\"\\n✅ ¡Consulta finalizada con éxito!\")\n",
    "print(f\"Se encontraron y guardaron {len(df_filtrado)} noticias.\")\n",
    "print(f\"Revisa el archivo: '{output_filename}'\")"
   ]
  },
  {
   "cell_type": "code",
   "execution_count": 7,
   "metadata": {},
   "outputs": [],
   "source": [
    "df.to_csv('data/noticias_combinadas.csv', index=False)"
   ]
  },
  {
   "cell_type": "code",
   "execution_count": 11,
   "metadata": {},
   "outputs": [
    {
     "name": "stderr",
     "output_type": "stream",
     "text": [
      "C:\\Users\\benja\\AppData\\Local\\Temp\\ipykernel_25712\\3552374046.py:24: UserWarning: This pattern is interpreted as a regular expression, and has match groups. To actually get the groups, use str.extract.\n",
      "  filtro = df['body'].str.contains(pattern, case=False, na=False)\n"
     ]
    },
    {
     "name": "stdout",
     "output_type": "stream",
     "text": [
      "Noticias originales: 118000\n",
      "Noticias filtradas por palabras clave: 15081\n",
      "\n",
      "Ejemplos de títulos encontrados:\n",
      "1     Así quedaron las duplas definitivas de cara a ...\n",
      "5     Corte Marcial Extraordinaria pone en riesgo a ...\n",
      "16    Palabra de Honor: Lealtad o Traición | Resumen...\n",
      "33    \"Tiene toda la razón para reclamar\": Manuel Pe...\n",
      "35    Cuesta más de $500 millones: Así es la nueva c...\n",
      "Name: title, dtype: object\n"
     ]
    }
   ],
   "source": [
    "import pandas as pd\n",
    "import re\n",
    "\n",
    "# Carga tus datos (ajusta la ruta si es necesario)\n",
    "df = pd.read_csv('../data/noticias_chile_primarias_2025.csv')\n",
    "\n",
    "# --- 1. Define tu nueva lista de palabras clave ---\n",
    "# Puedes agregar o quitar las palabras que necesites.\n",
    "keywords = [\n",
    "    'primarias', 'elecciones', 'presidenciales', 'candidato', 'candidata',\n",
    "    'candidatura', 'votación', 'voto', 'sufragio', 'encuesta', 'debate',\n",
    "    'pacto electoral', 'servicio electoral', 'servel', 'campaña electoral'\n",
    "]\n",
    "\n",
    "# --- 2. Crea un patrón de búsqueda (expresión regular) ---\n",
    "# Esto crea un patrón como r'\\b(primarias|elecciones|...)\\b'\n",
    "# \\b asegura que se busquen palabras completas.\n",
    "pattern = r'\\b(' + '|'.join(keywords) + r')\\b'\n",
    "\n",
    "# --- 3. Aplica el filtro usando .str.contains() ---\n",
    "# .str.contains() es muy rápido para esta tarea.\n",
    "# case=False: no distingue entre mayúsculas y minúsculas.\n",
    "# na=False: trata los valores nulos (NaN) como si no contuvieran las palabras.\n",
    "filtro = df['body'].str.contains(pattern, case=False, na=False)\n",
    "\n",
    "# Crea el nuevo DataFrame con solo las noticias que cumplen el filtro\n",
    "df_filtrado = df[filtro].copy()\n",
    "\n",
    "\n",
    "# --- 4. Revisa los resultados ---\n",
    "print(f\"Noticias originales: {len(df)}\")\n",
    "print(f\"Noticias filtradas por palabras clave: {len(df_filtrado)}\")\n",
    "\n",
    "# Muestra una muestra de los títulos de las noticias encontradas\n",
    "print(\"\\nEjemplos de títulos encontrados:\")\n",
    "print(df_filtrado['title'].head())"
   ]
  },
  {
   "cell_type": "code",
   "execution_count": 13,
   "metadata": {},
   "outputs": [],
   "source": [
    "df_filtrado.to_csv('../data/noticias_procesadas_primarias.csv', index=False)"
   ]
  }
 ],
 "metadata": {
  "kernelspec": {
   "display_name": "Python 3",
   "language": "python",
   "name": "python3"
  },
  "language_info": {
   "codemirror_mode": {
    "name": "ipython",
    "version": 3
   },
   "file_extension": ".py",
   "mimetype": "text/x-python",
   "name": "python",
   "nbconvert_exporter": "python",
   "pygments_lexer": "ipython3",
   "version": "3.12.5"
  }
 },
 "nbformat": 4,
 "nbformat_minor": 2
}
